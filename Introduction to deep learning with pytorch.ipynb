{
 "cells": [
  {
   "cell_type": "code",
   "execution_count": 1,
   "metadata": {},
   "outputs": [],
   "source": [
    "#in this tutorial we are trying to follow all the steps used in the introduction to deep learning course\n",
    "import numpy as np\n",
    "import helper\n",
    "import matplotlib.pyplot as plt\n",
    "import torch\n",
    "from torchvision import datasets, transforms\n",
    "from torch import nn\n",
    "import torch.nn.functional as F\n",
    "from torch import optim"
   ]
  },
  {
   "cell_type": "code",
   "execution_count": 2,
   "metadata": {},
   "outputs": [],
   "source": [
    "#define the activation function\n",
    "def activation(x):\n",
    "    return 1/(1+torch.exp(-x))"
   ]
  },
  {
   "cell_type": "code",
   "execution_count": 3,
   "metadata": {},
   "outputs": [],
   "source": [
    "#trying to define a neural network with three input neurons, 2 hidden neurons and 1 output neuron\n",
    "#generate some manual data\n",
    "torch.manual_seed(7)\n",
    "features = torch.randn((1,3))\n",
    "n_inputs = features.shape[1]\n",
    "n_hidden = 2\n",
    "n_output = 1\n",
    "\n",
    "#weights from hiden to output layers\n",
    "W1 = torch.randn(n_inputs, n_hidden)\n",
    "W2 = torch.randn(n_hidden, n_output)\n",
    "\n",
    "#the bias terms \n",
    "B1 = torch.randn((1, n_hidden))\n",
    "B2 = torch.randn((1, n_output))\n"
   ]
  },
  {
   "cell_type": "code",
   "execution_count": 6,
   "metadata": {},
   "outputs": [
    {
     "name": "stdout",
     "output_type": "stream",
     "text": [
      "tensor([[0.3171]])\n"
     ]
    }
   ],
   "source": [
    "#calculating the output of this layer using the y = f(W.X + B)\n",
    "output_1 = torch.mm(features, W1) + B1\n",
    "output_2 = activation(output_1)\n",
    "output_3 = torch.mm(output_2, W2) + B2\n",
    "output_4 = activation(output_3)\n",
    "print(output_4)"
   ]
  },
  {
   "cell_type": "code",
   "execution_count": 2,
   "metadata": {},
   "outputs": [],
   "source": [
    "#defining the transform and iterating through all the transform\n",
    "transform = transforms.Compose([transforms.ToTensor(), transforms.Normalize((0.5,), (0.5,))])\n",
    "trainset = datasets.MNIST('~/.pytorch/MNIST_data/', download=True, train=True, transform=transform)\n",
    "trainloader = torch.utils.data.DataLoader(trainset, batch_size = 64, shuffle = True)"
   ]
  },
  {
   "cell_type": "code",
   "execution_count": 3,
   "metadata": {},
   "outputs": [
    {
     "data": {
      "text/plain": [
       "938"
      ]
     },
     "execution_count": 3,
     "metadata": {},
     "output_type": "execute_result"
    }
   ],
   "source": [
    "len(trainloader)"
   ]
  },
  {
   "cell_type": "code",
   "execution_count": 5,
   "metadata": {},
   "outputs": [
    {
     "name": "stdout",
     "output_type": "stream",
     "text": [
      "<class 'torch.Tensor'>\n",
      "torch.Size([64, 1, 28, 28])\n",
      "torch.Size([64])\n"
     ]
    }
   ],
   "source": [
    "dataiter = iter(trainloader)\n",
    "images, labels = dataiter.next()\n",
    "print(type(images))\n",
    "print(images.shape)\n",
    "print(labels.shape)"
   ]
  },
  {
   "cell_type": "code",
   "execution_count": 6,
   "metadata": {
    "scrolled": true
   },
   "outputs": [
    {
     "data": {
      "text/plain": [
       "<matplotlib.image.AxesImage at 0x7fc610492d68>"
      ]
     },
     "execution_count": 6,
     "metadata": {},
     "output_type": "execute_result"
    },
    {
     "data": {
      "image/png": "[encoded data removed]",
      "text/plain": [
       "<Figure size 432x288 with 1 Axes>"
      ]
     },
     "metadata": {
      "needs_background": "light"
     },
     "output_type": "display_data"
    }
   ],
   "source": [
    " plt.imshow(images[1].numpy().squeeze(), cmap = \"Greys_r\")"
   ]
  },
  {
   "cell_type": "code",
   "execution_count": 7,
   "metadata": {},
   "outputs": [],
   "source": [
    "#solving the exercise challenge - building a little neural network from ground up\n",
    "n_inputs = 28 * 28\n",
    "n_hidden = 256\n",
    "n_outputs = 10\n",
    "\n",
    "torch.manual_seed(7)\n",
    "features = images.view(64, 28 * 28)\n",
    "W1 = torch.randn(n_inputs, n_hidden)\n",
    "W2 = torch.randn(n_hidden, n_outputs)\n",
    "\n",
    "B1 = torch.randn((1, n_hidden))\n",
    "B2 = torch.randn((1, n_outputs))"
   ]
  },
  {
   "cell_type": "code",
   "execution_count": 8,
   "metadata": {},
   "outputs": [
    {
     "data": {
      "text/plain": [
       "torch.Size([64, 784])"
      ]
     },
     "execution_count": 8,
     "metadata": {},
     "output_type": "execute_result"
    }
   ],
   "source": [
    "features.shape"
   ]
  },
  {
   "cell_type": "code",
   "execution_count": 9,
   "metadata": {},
   "outputs": [
    {
     "data": {
      "text/plain": [
       "torch.Size([64, 10])"
      ]
     },
     "execution_count": 9,
     "metadata": {},
     "output_type": "execute_result"
    }
   ],
   "source": [
    "#now to do the calaculations \n",
    "output_1 = torch.mm(features, W1) + B1\n",
    "output_2 = activation(output_1)\n",
    "output_3 = torch.mm(output_2, W2) + B2\n",
    "output_3.shape"
   ]
  },
  {
   "cell_type": "code",
   "execution_count": 24,
   "metadata": {},
   "outputs": [
    {
     "ename": "SyntaxError",
     "evalue": "unexpected EOF while parsing (<ipython-input-24-b605a18ef094>, line 2)",
     "output_type": "error",
     "traceback": [
      "\u001b[0;36m  File \u001b[0;32m\"<ipython-input-24-b605a18ef094>\"\u001b[0;36m, line \u001b[0;32m2\u001b[0m\n\u001b[0;31m    def softmax(x):\u001b[0m\n\u001b[0m                   ^\u001b[0m\n\u001b[0;31mSyntaxError\u001b[0m\u001b[0;31m:\u001b[0m unexpected EOF while parsing\n"
     ]
    }
   ],
   "source": [
    "#we would have to wait for the softmax to be properly defined\n",
    "def softmax(x):\n",
    "    return torch.exp(x)/torch.sum(torch.exp(x), dim = 1).view(-1, 1)"
   ]
  },
  {
   "cell_type": "code",
   "execution_count": 11,
   "metadata": {},
   "outputs": [],
   "source": [
    "class Network(nn.Module):\n",
    "    def __init__(self):\n",
    "        super().__init__()\n",
    "        #defining the network layers\n",
    "        self.hidden = nn.Linear(784, 256)\n",
    "        self.output = nn.Linear(256, 10)\n",
    "        \n",
    "        #defining the activation functions\n",
    "        self.sigmoid = nn.Sigmoid()\n",
    "        self.softmax = nn.Softmax(dim = 1)\n",
    "        \n",
    "    def forward(self, x):\n",
    "        x = self.hidden(x)\n",
    "        x = self.sigmoid(x)\n",
    "        x = self.output(x)\n",
    "        x = self.softmax(x)\n",
    "        \n",
    "        return x"
   ]
  },
  {
   "cell_type": "code",
   "execution_count": 12,
   "metadata": {},
   "outputs": [
    {
     "data": {
      "text/plain": [
       "Network(\n",
       "  (hidden): Linear(in_features=784, out_features=256, bias=True)\n",
       "  (output): Linear(in_features=256, out_features=10, bias=True)\n",
       "  (sigmoid): Sigmoid()\n",
       "  (softmax): Softmax()\n",
       ")"
      ]
     },
     "execution_count": 12,
     "metadata": {},
     "output_type": "execute_result"
    }
   ],
   "source": [
    "#define the network\n",
    "model = Network()\n",
    "model"
   ]
  },
  {
   "cell_type": "code",
   "execution_count": 13,
   "metadata": {},
   "outputs": [],
   "source": [
    "#Now using the functional API who started using the functional API first Tensorflow or PyTorch\n",
    "class Network:\n",
    "    def __init__(self):\n",
    "        super().__init__()\n",
    "        self.hidden = nn.Linear(784, 256)\n",
    "        self.output = nn.Linear(256, 10)\n",
    "        \n",
    "    def forward(self, x):\n",
    "        x = F.sigmoid(self.hidden(x))\n",
    "        x = F.softmax(self.output(x), dim = 1)\n",
    "        \n",
    "        return x"
   ]
  },
  {
   "cell_type": "code",
   "execution_count": 14,
   "metadata": {},
   "outputs": [],
   "source": [
    "#Exercise -  My own type of network\n",
    "class Network:\n",
    "    def __init__(self):\n",
    "        super().__init__()\n",
    "        self.fc1 = nn.Linear(784, 128)\n",
    "        self.fc2 = nn.Linear(128, 64)\n",
    "        self.fc3 = nn.Linear(64, 10)\n",
    "        \n",
    "    def forward(self, x):\n",
    "        x = F.relu(self.fc1(x))\n",
    "        x = F.relu(self.fc2(x))\n",
    "        x = F.softmax(self.fc3(x), dim = 1)\n",
    "        \n",
    "        return x"
   ]
  },
  {
   "cell_type": "code",
   "execution_count": 15,
   "metadata": {},
   "outputs": [
    {
     "name": "stdout",
     "output_type": "stream",
     "text": [
      "Parameter containing:\n",
      "tensor([[ 0.0019,  0.0005, -0.0266,  ...,  0.0021,  0.0257,  0.0180],\n",
      "        [-0.0291,  0.0194,  0.0033,  ..., -0.0058, -0.0152, -0.0074],\n",
      "        [-0.0255,  0.0141, -0.0173,  ..., -0.0066,  0.0269,  0.0035],\n",
      "        ...,\n",
      "        [-0.0114,  0.0222,  0.0197,  ...,  0.0243,  0.0304,  0.0111],\n",
      "        [-0.0090, -0.0345, -0.0355,  ..., -0.0130,  0.0239, -0.0339],\n",
      "        [ 0.0088,  0.0205,  0.0327,  ..., -0.0091,  0.0315,  0.0055]],\n",
      "       requires_grad=True)\n",
      "Parameter containing:\n",
      "tensor([-0.0006, -0.0100,  0.0276, -0.0134, -0.0039,  0.0245, -0.0207,  0.0039,\n",
      "        -0.0155,  0.0004,  0.0028, -0.0305,  0.0163,  0.0109, -0.0037,  0.0187,\n",
      "         0.0095,  0.0269, -0.0096, -0.0019, -0.0355,  0.0344,  0.0178, -0.0305,\n",
      "        -0.0307, -0.0113, -0.0355,  0.0336, -0.0058, -0.0032,  0.0309,  0.0017,\n",
      "         0.0203, -0.0101,  0.0036, -0.0251, -0.0256, -0.0087,  0.0092, -0.0355,\n",
      "         0.0127, -0.0146, -0.0254, -0.0126, -0.0269,  0.0212,  0.0112, -0.0237,\n",
      "         0.0278,  0.0016, -0.0003,  0.0029, -0.0072,  0.0156,  0.0173, -0.0053,\n",
      "         0.0148,  0.0055,  0.0167, -0.0079,  0.0071,  0.0239,  0.0309,  0.0081,\n",
      "         0.0260,  0.0178, -0.0177,  0.0286, -0.0192,  0.0316, -0.0331, -0.0061,\n",
      "        -0.0203, -0.0219,  0.0069, -0.0191,  0.0133, -0.0211,  0.0017,  0.0135,\n",
      "        -0.0236, -0.0094,  0.0270,  0.0357, -0.0104,  0.0139,  0.0025, -0.0290,\n",
      "         0.0053, -0.0285,  0.0193, -0.0171,  0.0198,  0.0064,  0.0045,  0.0033,\n",
      "        -0.0205, -0.0122,  0.0348, -0.0299, -0.0246,  0.0097, -0.0101, -0.0285,\n",
      "         0.0185,  0.0236,  0.0244, -0.0269, -0.0338, -0.0353,  0.0282,  0.0088,\n",
      "        -0.0025, -0.0083, -0.0050,  0.0320, -0.0272, -0.0181,  0.0189,  0.0148,\n",
      "        -0.0171, -0.0174, -0.0209, -0.0208, -0.0314, -0.0042, -0.0348, -0.0181],\n",
      "       requires_grad=True)\n"
     ]
    }
   ],
   "source": [
    "model = Network()\n",
    "print(model.fc1.weight)\n",
    "print(model.fc1.bias)"
   ]
  },
  {
   "cell_type": "code",
   "execution_count": 16,
   "metadata": {},
   "outputs": [
    {
     "data": {
      "text/plain": [
       "tensor([0., 0., 0., 0., 0., 0., 0., 0., 0., 0., 0., 0., 0., 0., 0., 0., 0., 0., 0., 0., 0., 0., 0., 0.,\n",
       "        0., 0., 0., 0., 0., 0., 0., 0., 0., 0., 0., 0., 0., 0., 0., 0., 0., 0., 0., 0., 0., 0., 0., 0.,\n",
       "        0., 0., 0., 0., 0., 0., 0., 0., 0., 0., 0., 0., 0., 0., 0., 0., 0., 0., 0., 0., 0., 0., 0., 0.,\n",
       "        0., 0., 0., 0., 0., 0., 0., 0., 0., 0., 0., 0., 0., 0., 0., 0., 0., 0., 0., 0., 0., 0., 0., 0.,\n",
       "        0., 0., 0., 0., 0., 0., 0., 0., 0., 0., 0., 0., 0., 0., 0., 0., 0., 0., 0., 0., 0., 0., 0., 0.,\n",
       "        0., 0., 0., 0., 0., 0., 0., 0.])"
      ]
     },
     "execution_count": 16,
     "metadata": {},
     "output_type": "execute_result"
    }
   ],
   "source": [
    "#customising the weight and bias matrices\n",
    "model.fc1.weight.data.normal_(std = 0.01)\n",
    "model.fc1.bias.data.fill_(0)"
   ]
  },
  {
   "cell_type": "code",
   "execution_count": 7,
   "metadata": {},
   "outputs": [
    {
     "data": {
      "image/png": "[encoded data removed]",
      "text/plain": [
       "<Figure size 432x648 with 2 Axes>"
      ]
     },
     "metadata": {
      "needs_background": "light"
     },
     "output_type": "display_data"
    }
   ],
   "source": [
    "#passing an image finally through the network\n",
    "dataiter = iter(trainloader)\n",
    "images, labels = dataiter.next()\n",
    "images.resize_(images.shape[0], 1, 784)\n",
    "\n",
    "#forward pass into the network and then viewing some inference\n",
    "img_idx = 0\n",
    "ps = model.forward(images[img_idx, :])\n",
    "img = images[img_idx]\n",
    "helper.view_classify(img.view(1, 28, 28), ps)"
   ]
  },
  {
   "cell_type": "code",
   "execution_count": 8,
   "metadata": {},
   "outputs": [
    {
     "name": "stdout",
     "output_type": "stream",
     "text": [
      "Sequential(\n",
      "  (0): Linear(in_features=784, out_features=128, bias=True)\n",
      "  (1): ReLU()\n",
      "  (2): Linear(in_features=128, out_features=64, bias=True)\n",
      "  (3): ReLU()\n",
      "  (4): Linear(in_features=64, out_features=10, bias=True)\n",
      "  (5): Softmax()\n",
      ")\n"
     ]
    }
   ],
   "source": [
    "#using the sequential package in python \n",
    "input_size = 784\n",
    "hidden_neurons = [128, 64]\n",
    "output_size = 10\n",
    "\n",
    "model = nn.Sequential(nn.Linear(input_size, hidden_neurons[0]),\n",
    "                     nn.ReLU(),\n",
    "                     nn.Linear(hidden_neurons[0], hidden_neurons[1]),\n",
    "                     nn.ReLU(),\n",
    "                     nn.Linear(hidden_neurons[1], output_size),\n",
    "                     nn.Softmax(dim = 1))\n",
    "\n",
    "print(model)"
   ]
  },
  {
   "cell_type": "code",
   "execution_count": 9,
   "metadata": {},
   "outputs": [
    {
     "data": {
      "image/png": "[encoded data removed]",
      "text/plain": [
       "<Figure size 432x648 with 2 Axes>"
      ]
     },
     "metadata": {
      "needs_background": "light"
     },
     "output_type": "display_data"
    }
   ],
   "source": [
    "#forward pass into the network and see what it predicts\n",
    "img_idx = 0\n",
    "ps = model.forward(images[img_idx, :])\n",
    "img = images[img_idx]\n",
    "helper.view_classify(img.view(1, 28, 28), ps)"
   ]
  },
  {
   "cell_type": "code",
   "execution_count": 10,
   "metadata": {},
   "outputs": [
    {
     "name": "stdout",
     "output_type": "stream",
     "text": [
      "Linear(in_features=784, out_features=128, bias=True)\n"
     ]
    },
    {
     "data": {
      "text/plain": [
       "Parameter containing:\n",
       "tensor([[-0.0041, -0.0247,  0.0024,  ...,  0.0335,  0.0060, -0.0050],\n",
       "        [ 0.0023, -0.0323,  0.0298,  ..., -0.0101,  0.0320,  0.0328],\n",
       "        [ 0.0143,  0.0206,  0.0316,  ..., -0.0126, -0.0296,  0.0355],\n",
       "        ...,\n",
       "        [ 0.0198,  0.0264, -0.0251,  ...,  0.0251,  0.0128,  0.0336],\n",
       "        [-0.0277,  0.0257,  0.0052,  ..., -0.0028,  0.0149, -0.0220],\n",
       "        [-0.0130, -0.0098, -0.0223,  ...,  0.0002, -0.0271, -0.0015]],\n",
       "       requires_grad=True)"
      ]
     },
     "execution_count": 10,
     "metadata": {},
     "output_type": "execute_result"
    }
   ],
   "source": [
    "print(model[0])\n",
    "model[0].weight\n"
   ]
  },
  {
   "cell_type": "code",
   "execution_count": 11,
   "metadata": {},
   "outputs": [
    {
     "data": {
      "text/plain": [
       "Sequential(\n",
       "  (fc1): Linear(in_features=784, out_features=128, bias=True)\n",
       "  (relu1): ReLU()\n",
       "  (fc2): Linear(in_features=128, out_features=64, bias=True)\n",
       "  (relu2): ReLU()\n",
       "  (output): Linear(in_features=64, out_features=10, bias=True)\n",
       "  (softmax): Softmax()\n",
       ")"
      ]
     },
     "execution_count": 11,
     "metadata": {},
     "output_type": "execute_result"
    }
   ],
   "source": [
    "from collections import OrderedDict\n",
    "model = nn.Sequential(OrderedDict([\n",
    "                      ('fc1', nn.Linear(input_size, hidden_neurons[0])),\n",
    "                      ('relu1', nn.ReLU()),\n",
    "                      ('fc2', nn.Linear(hidden_neurons[0], hidden_neurons[1])),\n",
    "                      ('relu2', nn.ReLU()),\n",
    "                      ('output', nn.Linear(hidden_neurons[1], output_size)),\n",
    "                      ('softmax', nn.Softmax(dim=1))]))\n",
    "model"
   ]
  },
  {
   "cell_type": "code",
   "execution_count": 12,
   "metadata": {},
   "outputs": [
    {
     "name": "stdout",
     "output_type": "stream",
     "text": [
      "tensor(2.3183, grad_fn=<NllLossBackward>)\n"
     ]
    }
   ],
   "source": [
    "#Exercise build a neural network with the logarithm of the softmax function\n",
    "model = nn.Sequential(nn.Linear(input_size, hidden_neurons[0]),\n",
    "                     nn.ReLU(),\n",
    "                     nn.Linear(hidden_neurons[0], hidden_neurons[1]),\n",
    "                     nn.ReLU(),\n",
    "                     nn.Linear(hidden_neurons[1], output_size),\n",
    "                     nn.LogSoftmax(dim = 1))\n",
    "\n",
    "criterion   = nn.NLLLoss()\n",
    "\n",
    "#get the data and flatten the images\n",
    "images, labels = next(iter(trainloader))\n",
    "images = images.view(images.shape[0], -1)\n",
    "\n",
    "\n",
    "#forward pass the network. get the logits and caculate the loss\n",
    "logits = model(images)\n",
    "loss = criterion(logits, labels)\n",
    "print(loss)"
   ]
  },
  {
   "cell_type": "code",
   "execution_count": 16,
   "metadata": {},
   "outputs": [
    {
     "name": "stdout",
     "output_type": "stream",
     "text": [
      "Training Loss: 1.8895488186939946\n",
      "Training Loss: 0.8464440416171353\n",
      "Training Loss: 0.5250292798158711\n",
      "Training Loss: 0.4325063853248604\n",
      "Training Loss: 0.3884536012339948\n"
     ]
    }
   ],
   "source": [
    "#exercise - Now build the network to add an optimizer and to train it\n",
    "model = nn.Sequential(nn.Linear(784, 128),\n",
    "                     nn.ReLU(),\n",
    "                     nn.Linear(128, 64),\n",
    "                     nn.ReLU(),\n",
    "                     nn.Linear(64, 10),\n",
    "                     nn.LogSoftmax(dim = 1))\n",
    "\n",
    "criterion   = nn.NLLLoss()\n",
    "optimizer = optim.SGD(model.parameters(), lr = 0.003)\n",
    "\n",
    "epochs = 5\n",
    "for e in range(epochs):\n",
    "    running_loss = 0\n",
    "    for images, labels in trainloader:\n",
    "        # flatten the images\\\n",
    "        images = images.view(images.shape[0], -1)\n",
    "        \n",
    "        #now take the gradient and the pass\n",
    "        optimizer.zero_grad()\n",
    "        \n",
    "        output = model(images)\n",
    "        loss = criterion(output, labels)\n",
    "        loss.backward()\n",
    "        optimizer.step()\n",
    "        \n",
    "        running_loss += loss.item()\n",
    "    else:\n",
    "        print(f\"Training Loss: {running_loss / len(trainloader)}\")\n",
    "        "
   ]
  },
  {
   "cell_type": "code",
   "execution_count": 18,
   "metadata": {},
   "outputs": [
    {
     "data": {
      "image/png": "[encoded data removed]",
      "text/plain": [
       "<Figure size 432x648 with 2 Axes>"
      ]
     },
     "metadata": {
      "needs_background": "light"
     },
     "output_type": "display_data"
    }
   ],
   "source": [
    "#time to test if the algorithm works and therefore if it has trained a little\n",
    "images, labels = next(iter(trainloader))\n",
    "image = images[0].view(1, 784)\n",
    "\n",
    "#turn off the gradients to speed up the process\n",
    "with torch.no_grad():\n",
    "    logps = model(image)\n",
    "    \n",
    "ps = torch.exp(logps)\n",
    "helper.view_classify(image.view(1, 28, 28), ps)"
   ]
  },
  {
   "cell_type": "markdown",
   "metadata": {},
   "source": [
    "## Time to train a network on Fashion MNIST \n",
    "#### from scratch"
   ]
  },
  {
   "cell_type": "code",
   "execution_count": 45,
   "metadata": {},
   "outputs": [],
   "source": [
    "import torch\n",
    "from torch import nn\n",
    "from torch import optim\n",
    "from torchvision import datasets, transforms\n",
    "import torch.nn.functional as F \n",
    "import helper\n",
    "import fc_model\n",
    "\n",
    "%matplotlib inline\n",
    "%config InlineBackend.figure_format = \"retina\"\n"
   ]
  },
  {
   "cell_type": "code",
   "execution_count": 2,
   "metadata": {},
   "outputs": [],
   "source": [
    "transform = transforms.Compose([transforms.ToTensor(),transforms.Normalize((0.5, ), (0.5, ))])\n",
    "\n",
    "#download the dataset \n",
    "trainset = datasets.FashionMNIST('~/.pytorch/F_MNIST_data/',download = True, train = True, transform = transform)\n",
    "trainloader = torch.utils.data.DataLoader(trainset, batch_size = 64, shuffle  = True)\n",
    "\n",
    "#download the testset\n",
    "testset = datasets.FashionMNIST('~/.pytorch/F_MNIST_data/',download = True, train = False, transform = transform)\n",
    "testloader = torch.utils.data.DataLoader(testset, batch_size = 64, shuffle = True)"
   ]
  },
  {
   "cell_type": "code",
   "execution_count": 3,
   "metadata": {},
   "outputs": [
    {
     "data": {
      "text/plain": [
       "<matplotlib.axes._subplots.AxesSubplot at 0x7ff87a2802b0>"
      ]
     },
     "execution_count": 3,
     "metadata": {},
     "output_type": "execute_result"
    },
    {
     "data": {
      "image/png": "[encoded data removed]",
      "text/plain": [
       "<Figure size 432x288 with 1 Axes>"
      ]
     },
     "metadata": {
      "image/png": {
       "height": 233,
       "width": 233
      },
      "needs_background": "light"
     },
     "output_type": "display_data"
    }
   ],
   "source": [
    "#view some of the images\n",
    "image, label = next(iter(trainloader))\n",
    "helper.imshow(image[0, :])"
   ]
  },
  {
   "cell_type": "code",
   "execution_count": 4,
   "metadata": {},
   "outputs": [
    {
     "name": "stdout",
     "output_type": "stream",
     "text": [
      "Training Loss: 0.5125795407558301\n",
      "Training Loss: 0.38387526844197245\n",
      "Training Loss: 0.3476801452510901\n",
      "Training Loss: 0.3258799000271856\n",
      "Training Loss: 0.30389490656094004\n"
     ]
    }
   ],
   "source": [
    "#building the neural networl\n",
    "model  = nn.Sequential(nn.Linear(784, 256),\n",
    "                      nn.ReLU(),\n",
    "                      nn.Linear(256, 128),\n",
    "                      nn.ReLU(),\n",
    "                      nn.Linear(128, 64),\n",
    "                      nn.ReLU(), \n",
    "                      nn.Linear(64, 10),\n",
    "                      nn.LogSoftmax(dim = 1))\n",
    "\n",
    "criterion = nn.NLLLoss()\n",
    "optimizer  = optim.Adam(model.parameters(), lr = 0.002)\n",
    "\n",
    "#now to train the network\n",
    "epochs = 5\n",
    "for e in range(epochs):\n",
    "    running_loss = 0\n",
    "    for images, labels in trainloader:\n",
    "        #flatten \n",
    "        images = images.view(images.shape[0], -1)\n",
    "        \n",
    "        #zero the gradient, get the loss, take backward propagation and then take the loss\n",
    "        optimizer.zero_grad()\n",
    "        output  = model(images)\n",
    "        loss = criterion(output, labels)\n",
    "        loss.backward()\n",
    "        optimizer.step()\n",
    "        running_loss += loss.item()\n",
    "    else:\n",
    "        print(f\"Training Loss: {running_loss/len(trainloader)}\")\n",
    "        \n",
    "        "
   ]
  },
  {
   "cell_type": "code",
   "execution_count": 5,
   "metadata": {},
   "outputs": [
    {
     "data": {
      "image/png": "[encoded data removed]",
      "text/plain": [
       "<Figure size 432x648 with 2 Axes>"
      ]
     },
     "metadata": {
      "image/png": {
       "height": 206,
       "width": 423
      },
      "needs_background": "light"
     },
     "output_type": "display_data"
    }
   ],
   "source": [
    "#get the network ready to do some testing\n",
    "images, _ = next(iter(testloader))\n",
    "img = images[0].view(1, 784)\n",
    "\n",
    "#get the probabilities and solve the problem using those calculations\n",
    "#turn off the gradients to speed up the process\n",
    "with torch.no_grad():\n",
    "    logps = model(img)\n",
    "ps = torch.exp(logps)\n",
    "helper.view_classify(img.resize_(1, 28, 28), ps,version = \"Fashion\")"
   ]
  },
  {
   "cell_type": "code",
   "execution_count": 6,
   "metadata": {},
   "outputs": [
    {
     "name": "stdout",
     "output_type": "stream",
     "text": [
      "tensor([5, 6, 1, 4, 8, 7, 0, 6, 3, 0, 5, 9, 0, 8, 8, 9, 4, 1, 7, 4, 0, 0, 0, 4,\n",
      "        1, 5, 5, 1, 8, 1, 4, 5, 4, 4, 3, 7, 5, 3, 0, 8, 0, 7, 3, 4, 7, 0, 2, 8,\n",
      "        1, 8, 9, 1, 6, 1, 0, 6, 5, 4, 1, 5, 2, 3, 6, 9])\n"
     ]
    }
   ],
   "source": [
    "print(_)"
   ]
  },
  {
   "cell_type": "markdown",
   "metadata": {},
   "source": [
    "## Inference and validation "
   ]
  },
  {
   "cell_type": "code",
   "execution_count": 7,
   "metadata": {},
   "outputs": [],
   "source": [
    "class Classifier(nn.Module):\n",
    "    \n",
    "    def __init__(self):\n",
    "        super().__init__()\n",
    "        self.fc1 = nn.Linear(784, 256)\n",
    "        self.fc2 = nn.Linear(256, 128)\n",
    "        self.fc3 = nn.Linear(128, 64)\n",
    "        self.fc4 = nn.Linear(64, 10)\n",
    "        \n",
    "    def forward(self, x):\n",
    "        #reshaping the variable to suit the purpose\n",
    "        x = x.view(x.shape[0], -1)\n",
    "        \n",
    "        #building the algorithm using functional parameters\n",
    "        x = F.relu(self.fc1(x))\n",
    "        x = F.relu(self.fc2(x))\n",
    "        x = F.relu(self.fc3(x))\n",
    "        x = F.log_softmax(self.fc4(x), dim = 1)\n",
    "        \n",
    "        return x"
   ]
  },
  {
   "cell_type": "code",
   "execution_count": 68,
   "metadata": {},
   "outputs": [
    {
     "name": "stdout",
     "output_type": "stream",
     "text": [
      "Accuracy: 7.8125\n"
     ]
    }
   ],
   "source": [
    "model = Classifier()\n",
    "images, labels = next(iter(testloader))\n",
    "\n",
    "#getting the probabilities\n",
    "ps  = torch.exp(model(images))\n",
    "top_p, top_class = ps.topk(1, dim = 1)\n",
    "equals = top_class == labels.view(*top_class.shape)\n",
    "accuracy = torch.mean(equals.type(torch.FloatTensor))\n",
    "print(f\"Accuracy: {accuracy.item()*100}\")"
   ]
  },
  {
   "cell_type": "code",
   "execution_count": 12,
   "metadata": {},
   "outputs": [
    {
     "name": "stdout",
     "output_type": "stream",
     "text": [
      "Epoch: 1/30..  Training Loss: 0.519..  Test Loss: 0.462..  Test Accuracy: 0.829\n",
      "Epoch: 2/30..  Training Loss: 0.393..  Test Loss: 0.414..  Test Accuracy: 0.850\n",
      "Epoch: 3/30..  Training Loss: 0.353..  Test Loss: 0.387..  Test Accuracy: 0.859\n",
      "Epoch: 4/30..  Training Loss: 0.333..  Test Loss: 0.392..  Test Accuracy: 0.859\n",
      "Epoch: 5/30..  Training Loss: 0.313..  Test Loss: 0.368..  Test Accuracy: 0.873\n",
      "Epoch: 6/30..  Training Loss: 0.302..  Test Loss: 0.369..  Test Accuracy: 0.869\n",
      "Epoch: 7/30..  Training Loss: 0.291..  Test Loss: 0.377..  Test Accuracy: 0.868\n",
      "Epoch: 8/30..  Training Loss: 0.281..  Test Loss: 0.385..  Test Accuracy: 0.872\n",
      "Epoch: 9/30..  Training Loss: 0.271..  Test Loss: 0.382..  Test Accuracy: 0.873\n",
      "Epoch: 10/30..  Training Loss: 0.262..  Test Loss: 0.356..  Test Accuracy: 0.877\n",
      "Epoch: 11/30..  Training Loss: 0.259..  Test Loss: 0.376..  Test Accuracy: 0.873\n",
      "Epoch: 12/30..  Training Loss: 0.250..  Test Loss: 0.364..  Test Accuracy: 0.873\n",
      "Epoch: 13/30..  Training Loss: 0.244..  Test Loss: 0.384..  Test Accuracy: 0.873\n",
      "Epoch: 14/30..  Training Loss: 0.239..  Test Loss: 0.367..  Test Accuracy: 0.880\n",
      "Epoch: 15/30..  Training Loss: 0.233..  Test Loss: 0.399..  Test Accuracy: 0.879\n",
      "Epoch: 16/30..  Training Loss: 0.231..  Test Loss: 0.382..  Test Accuracy: 0.881\n",
      "Epoch: 17/30..  Training Loss: 0.228..  Test Loss: 0.369..  Test Accuracy: 0.878\n",
      "Epoch: 18/30..  Training Loss: 0.218..  Test Loss: 0.390..  Test Accuracy: 0.878\n",
      "Epoch: 19/30..  Training Loss: 0.223..  Test Loss: 0.372..  Test Accuracy: 0.889\n",
      "Epoch: 20/30..  Training Loss: 0.213..  Test Loss: 0.399..  Test Accuracy: 0.875\n",
      "Epoch: 21/30..  Training Loss: 0.209..  Test Loss: 0.375..  Test Accuracy: 0.886\n",
      "Epoch: 22/30..  Training Loss: 0.207..  Test Loss: 0.395..  Test Accuracy: 0.879\n",
      "Epoch: 23/30..  Training Loss: 0.201..  Test Loss: 0.408..  Test Accuracy: 0.882\n",
      "Epoch: 24/30..  Training Loss: 0.197..  Test Loss: 0.408..  Test Accuracy: 0.879\n",
      "Epoch: 25/30..  Training Loss: 0.195..  Test Loss: 0.386..  Test Accuracy: 0.889\n",
      "Epoch: 26/30..  Training Loss: 0.188..  Test Loss: 0.416..  Test Accuracy: 0.881\n",
      "Epoch: 27/30..  Training Loss: 0.190..  Test Loss: 0.425..  Test Accuracy: 0.885\n",
      "Epoch: 28/30..  Training Loss: 0.191..  Test Loss: 0.431..  Test Accuracy: 0.880\n",
      "Epoch: 29/30..  Training Loss: 0.182..  Test Loss: 0.430..  Test Accuracy: 0.886\n",
      "Epoch: 30/30..  Training Loss: 0.179..  Test Loss: 0.402..  Test Accuracy: 0.882\n"
     ]
    }
   ],
   "source": [
    "model = Classifier()\n",
    "criterion = nn.NLLLoss()\n",
    "optimizer = optim.Adam(model.parameters(), lr=0.003)\n",
    "\n",
    "epochs = 30\n",
    "steps = 0\n",
    "\n",
    "train_losses, test_losses = [], []\n",
    "for e in range(epochs):\n",
    "    running_loss = 0\n",
    "    for images, labels in trainloader:\n",
    "        \n",
    "        optimizer.zero_grad()\n",
    "        \n",
    "        log_ps = model(images)\n",
    "        loss = criterion(log_ps, labels)\n",
    "        loss.backward()\n",
    "        optimizer.step()\n",
    "        \n",
    "        running_loss += loss.item()\n",
    "        \n",
    "    else:\n",
    "        test_loss = 0\n",
    "        accuracy = 0\n",
    "        \n",
    "        # Turn off gradients for validation, saves memory and computations\n",
    "        with torch.no_grad():\n",
    "            for images, labels in testloader:\n",
    "                log_ps = model(images)\n",
    "                test_loss += criterion(log_ps, labels)\n",
    "                \n",
    "                ps = torch.exp(log_ps)\n",
    "                top_p, top_class = ps.topk(1, dim=1)\n",
    "                equals = top_class == labels.view(*top_class.shape)\n",
    "                accuracy += torch.mean(equals.type(torch.FloatTensor))\n",
    "                \n",
    "        train_losses.append(running_loss/len(trainloader))\n",
    "        test_losses.append(test_loss/len(testloader))\n",
    "\n",
    "        print(\"Epoch: {}/{}.. \".format(e+1, epochs),\n",
    "              \"Training Loss: {:.3f}.. \".format(running_loss/len(trainloader)),\n",
    "              \"Test Loss: {:.3f}.. \".format(test_loss/len(testloader)),\n",
    "               \"Test Accuracy: {:.3f}\".format(accuracy/len(testloader)))"
   ]
  },
  {
   "cell_type": "code",
   "execution_count": 16,
   "metadata": {},
   "outputs": [],
   "source": [
    "%matplotlib inline\n",
    "%config InlineBackend.figure_format = \"retina\"\n",
    "\n",
    "import matplotlib.pyplot as plt"
   ]
  },
  {
   "cell_type": "code",
   "execution_count": 18,
   "metadata": {},
   "outputs": [
    {
     "data": {
      "text/plain": [
       "<matplotlib.legend.Legend at 0x7ff874361908>"
      ]
     },
     "execution_count": 18,
     "metadata": {},
     "output_type": "execute_result"
    },
    {
     "data": {
      "image/png": "[encoded data removed]",
      "text/plain": [
       "<Figure size 432x288 with 1 Axes>"
      ]
     },
     "metadata": {
      "image/png": {
       "height": 250,
       "width": 380
      },
      "needs_background": "light"
     },
     "output_type": "display_data"
    }
   ],
   "source": [
    "plt.plot(train_losses, label = \"Training loss\")\n",
    "plt.plot(test_losses, label = \"Test loss\")\n",
    "plt.legend(frameon = True)"
   ]
  },
  {
   "cell_type": "code",
   "execution_count": 31,
   "metadata": {},
   "outputs": [],
   "source": [
    "class Classifier(nn.Module):\n",
    "    \n",
    "    def __init__(self):\n",
    "        super().__init__()\n",
    "        self.fc1 = nn.Linear(784, 256)\n",
    "        self.fc2 = nn.Linear(256, 128)\n",
    "        self.fc3 = nn.Linear(128, 64)\n",
    "        self.fc4 = nn.Linear(64, 10)\n",
    "        \n",
    "        #adding the dropout layer\n",
    "        self.dropout = nn.Dropout(p = 0.2)\n",
    "        \n",
    "    def forward(self, x):\n",
    "        x = x.view(x.shape[0], -1)\n",
    "        \n",
    "        x = self.dropout(F.relu(self.fc1(x)))\n",
    "        x = self.dropout(F.relu(self.fc2(x)))\n",
    "        x = self.dropout(F.relu(self.fc3(x)))\n",
    "        x = F.log_softmax(self.fc4(x), dim = 1)\n",
    "        \n",
    "        return x\n",
    "        "
   ]
  },
  {
   "cell_type": "code",
   "execution_count": 34,
   "metadata": {},
   "outputs": [
    {
     "name": "stdout",
     "output_type": "stream",
     "text": [
      "Epoch: 0/30..  Training Loss: 0.606..  Test Loss: 0.000..  Test Accuracy: 0.826\n",
      "Epoch: 1/30..  Training Loss: 0.486..  Test Loss: 0.000..  Test Accuracy: 0.833\n",
      "Epoch: 2/30..  Training Loss: 0.458..  Test Loss: 0.000..  Test Accuracy: 0.849\n",
      "Epoch: 3/30..  Training Loss: 0.438..  Test Loss: 0.000..  Test Accuracy: 0.854\n",
      "Epoch: 4/30..  Training Loss: 0.424..  Test Loss: 0.000..  Test Accuracy: 0.848\n",
      "Epoch: 5/30..  Training Loss: 0.417..  Test Loss: 0.000..  Test Accuracy: 0.854\n",
      "Epoch: 6/30..  Training Loss: 0.407..  Test Loss: 0.000..  Test Accuracy: 0.856\n",
      "Epoch: 7/30..  Training Loss: 0.403..  Test Loss: 0.000..  Test Accuracy: 0.861\n",
      "Epoch: 8/30..  Training Loss: 0.396..  Test Loss: 0.000..  Test Accuracy: 0.864\n",
      "Epoch: 9/30..  Training Loss: 0.394..  Test Loss: 0.000..  Test Accuracy: 0.866\n",
      "Epoch: 10/30..  Training Loss: 0.385..  Test Loss: 0.000..  Test Accuracy: 0.866\n",
      "Epoch: 11/30..  Training Loss: 0.384..  Test Loss: 0.000..  Test Accuracy: 0.865\n",
      "Epoch: 12/30..  Training Loss: 0.377..  Test Loss: 0.000..  Test Accuracy: 0.874\n",
      "Epoch: 13/30..  Training Loss: 0.372..  Test Loss: 0.000..  Test Accuracy: 0.867\n",
      "Epoch: 14/30..  Training Loss: 0.372..  Test Loss: 0.000..  Test Accuracy: 0.872\n",
      "Epoch: 15/30..  Training Loss: 0.364..  Test Loss: 0.000..  Test Accuracy: 0.867\n",
      "Epoch: 16/30..  Training Loss: 0.369..  Test Loss: 0.000..  Test Accuracy: 0.870\n",
      "Epoch: 17/30..  Training Loss: 0.370..  Test Loss: 0.000..  Test Accuracy: 0.875\n",
      "Epoch: 18/30..  Training Loss: 0.368..  Test Loss: 0.000..  Test Accuracy: 0.866\n",
      "Epoch: 19/30..  Training Loss: 0.363..  Test Loss: 0.000..  Test Accuracy: 0.869\n",
      "Epoch: 20/30..  Training Loss: 0.360..  Test Loss: 0.000..  Test Accuracy: 0.877\n",
      "Epoch: 21/30..  Training Loss: 0.359..  Test Loss: 0.000..  Test Accuracy: 0.869\n",
      "Epoch: 22/30..  Training Loss: 0.351..  Test Loss: 0.000..  Test Accuracy: 0.872\n",
      "Epoch: 23/30..  Training Loss: 0.354..  Test Loss: 0.000..  Test Accuracy: 0.863\n",
      "Epoch: 24/30..  Training Loss: 0.353..  Test Loss: 0.000..  Test Accuracy: 0.875\n",
      "Epoch: 25/30..  Training Loss: 0.350..  Test Loss: 0.000..  Test Accuracy: 0.874\n",
      "Epoch: 26/30..  Training Loss: 0.342..  Test Loss: 0.000..  Test Accuracy: 0.864\n",
      "Epoch: 27/30..  Training Loss: 0.350..  Test Loss: 0.000..  Test Accuracy: 0.864\n",
      "Epoch: 28/30..  Training Loss: 0.350..  Test Loss: 0.000..  Test Accuracy: 0.871\n",
      "Epoch: 29/30..  Training Loss: 0.348..  Test Loss: 0.000..  Test Accuracy: 0.862\n"
     ]
    }
   ],
   "source": [
    "#train the network with dropout\n",
    "model = Classifier()\n",
    "criterion = nn.NLLLoss()\n",
    "optimizer = optim.Adam(model.parameters(), lr = 0.003)\n",
    "\n",
    "epochs = 30\n",
    "steps = 0\n",
    "\n",
    "train_losses, test_losses = [], []\n",
    "for epoch in range(epochs):\n",
    "    running_loss = 0\n",
    "    for images, labels in trainloader:\n",
    "        optimizer.zero_grad()\n",
    "        log_ps = model(images)\n",
    "        loss = criterion(log_ps, labels)\n",
    "        loss.backward()\n",
    "        optimizer.step()\n",
    "        \n",
    "        running_loss += loss.item()\n",
    "    else:\n",
    "        test_loss = 0\n",
    "        accuracy = 0 \n",
    "        \n",
    "        with torch.no_grad():\n",
    "            model.eval()\n",
    "            for images, labels in testloader:\n",
    "                log_ps = model(images)\n",
    "                test_loss += criterion(log_ps, labels=)\n",
    "                \n",
    "                ps = torch.exp(log_ps)\n",
    "                top_p, top_class = ps.topk(1, dim = 1)\n",
    "                equals = top_class == labels.view(*top_class.shape)\n",
    "                accuracy += torch.mean(equals.type(torch.FloatTensor))\n",
    "                \n",
    "            model.train()\n",
    "            \n",
    "            train_losses.append(running_loss/len(trainloader))\n",
    "            test_losses.append(test_loss/len(testloader))\n",
    "            \n",
    "            print(\"Epoch: {}/{}.. \".format(epoch, epochs),\n",
    "              \"Training Loss: {:.3f}.. \".format(train_losses[-1]),\n",
    "              \"Test Loss: {:.3f}.. \".format(test_losses[-1]),\n",
    "              \"Test Accuracy: {:.3f}\".format(accuracy/len(testloader)))"
   ]
  },
  {
   "cell_type": "code",
   "execution_count": 35,
   "metadata": {},
   "outputs": [
    {
     "data": {
      "text/plain": [
       "<matplotlib.legend.Legend at 0x7ff86458ab70>"
      ]
     },
     "execution_count": 35,
     "metadata": {},
     "output_type": "execute_result"
    },
    {
     "data": {
      "image/png": "[encoded data removed]",
      "text/plain": [
       "<Figure size 432x288 with 1 Axes>"
      ]
     },
     "metadata": {
      "image/png": {
       "height": 250,
       "width": 373
      },
      "needs_background": "light"
     },
     "output_type": "display_data"
    }
   ],
   "source": [
    "plt.plot(train_losses, label = \"Training loss\")\n",
    "plt.plot(test_losses, label = \"Test loss\")\n",
    "plt.legend(frameon = True)"
   ]
  },
  {
   "cell_type": "code",
   "execution_count": 43,
   "metadata": {},
   "outputs": [
    {
     "data": {
      "image/png": "[encoded data removed]",
      "text/plain": [
       "<Figure size 432x648 with 2 Axes>"
      ]
     },
     "metadata": {
      "image/png": {
       "height": 206,
       "width": 423
      },
      "needs_background": "light"
     },
     "output_type": "display_data"
    }
   ],
   "source": [
    "model.eval()\n",
    "dataiter = iter(testloader)\n",
    "images, labels = next(dataiter)\n",
    "img = images[0]\n",
    "img  = img.view(1, 784)\n",
    "\n",
    "#putting off the gradients to make thing faster\n",
    "with torch.no_grad():\n",
    "    log_ps = model.forward(img)\n",
    "    \n",
    "ps = torch.exp(log_ps)\n",
    "helper.view_classify(img.view(1, 28, 28), ps, version = \"Fashion\")"
   ]
  },
  {
   "cell_type": "code",
   "execution_count": 47,
   "metadata": {},
   "outputs": [
    {
     "name": "stdout",
     "output_type": "stream",
     "text": [
      "Epoch: 1/3..  Training Loss: 1.888..  Test Loss: 1.251..  Test Accuracy: 0.444\n",
      "Epoch: 1/3..  Training Loss: 1.350..  Test Loss: 0.937..  Test Accuracy: 0.617\n",
      "Epoch: 1/3..  Training Loss: 1.146..  Test Loss: 0.906..  Test Accuracy: 0.661\n",
      "Epoch: 1/3..  Training Loss: 1.078..  Test Loss: 0.806..  Test Accuracy: 0.686\n",
      "Epoch: 1/3..  Training Loss: 1.009..  Test Loss: 0.802..  Test Accuracy: 0.659\n",
      "Epoch: 1/3..  Training Loss: 0.986..  Test Loss: 0.770..  Test Accuracy: 0.681\n",
      "Epoch: 1/3..  Training Loss: 0.938..  Test Loss: 0.727..  Test Accuracy: 0.688\n",
      "Epoch: 1/3..  Training Loss: 0.947..  Test Loss: 0.719..  Test Accuracy: 0.726\n",
      "Epoch: 1/3..  Training Loss: 0.879..  Test Loss: 0.721..  Test Accuracy: 0.727\n",
      "Epoch: 1/3..  Training Loss: 0.882..  Test Loss: 0.680..  Test Accuracy: 0.705\n",
      "Epoch: 1/3..  Training Loss: 0.900..  Test Loss: 0.715..  Test Accuracy: 0.711\n",
      "Epoch: 1/3..  Training Loss: 0.862..  Test Loss: 0.704..  Test Accuracy: 0.732\n",
      "Epoch: 1/3..  Training Loss: 0.901..  Test Loss: 0.691..  Test Accuracy: 0.718\n",
      "Epoch: 1/3..  Training Loss: 0.898..  Test Loss: 0.711..  Test Accuracy: 0.718\n",
      "Epoch: 1/3..  Training Loss: 0.840..  Test Loss: 0.654..  Test Accuracy: 0.760\n",
      "Epoch: 1/3..  Training Loss: 0.840..  Test Loss: 0.678..  Test Accuracy: 0.757\n",
      "Epoch: 1/3..  Training Loss: 0.848..  Test Loss: 0.695..  Test Accuracy: 0.729\n",
      "Epoch: 1/3..  Training Loss: 0.838..  Test Loss: 0.694..  Test Accuracy: 0.740\n",
      "Epoch: 1/3..  Training Loss: 0.815..  Test Loss: 0.644..  Test Accuracy: 0.750\n",
      "Epoch: 1/3..  Training Loss: 0.828..  Test Loss: 0.634..  Test Accuracy: 0.751\n",
      "Epoch: 1/3..  Training Loss: 0.909..  Test Loss: 0.661..  Test Accuracy: 0.744\n",
      "Epoch: 1/3..  Training Loss: 0.861..  Test Loss: 0.641..  Test Accuracy: 0.751\n",
      "Epoch: 1/3..  Training Loss: 0.887..  Test Loss: 0.668..  Test Accuracy: 0.740\n",
      "Epoch: 2/3..  Training Loss: 0.852..  Test Loss: 0.658..  Test Accuracy: 0.746\n",
      "Epoch: 2/3..  Training Loss: 0.861..  Test Loss: 0.647..  Test Accuracy: 0.766\n",
      "Epoch: 2/3..  Training Loss: 0.808..  Test Loss: 0.631..  Test Accuracy: 0.773\n",
      "Epoch: 2/3..  Training Loss: 0.806..  Test Loss: 0.617..  Test Accuracy: 0.769\n",
      "Epoch: 2/3..  Training Loss: 0.820..  Test Loss: 0.625..  Test Accuracy: 0.763\n",
      "Epoch: 2/3..  Training Loss: 0.771..  Test Loss: 0.622..  Test Accuracy: 0.776\n",
      "Epoch: 2/3..  Training Loss: 0.854..  Test Loss: 0.622..  Test Accuracy: 0.777\n",
      "Epoch: 2/3..  Training Loss: 0.815..  Test Loss: 0.605..  Test Accuracy: 0.782\n",
      "Epoch: 2/3..  Training Loss: 0.770..  Test Loss: 0.642..  Test Accuracy: 0.776\n",
      "Epoch: 2/3..  Training Loss: 0.736..  Test Loss: 0.588..  Test Accuracy: 0.778\n",
      "Epoch: 2/3..  Training Loss: 0.807..  Test Loss: 0.593..  Test Accuracy: 0.783\n",
      "Epoch: 2/3..  Training Loss: 0.769..  Test Loss: 0.586..  Test Accuracy: 0.784\n",
      "Epoch: 2/3..  Training Loss: 0.789..  Test Loss: 0.594..  Test Accuracy: 0.771\n",
      "Epoch: 2/3..  Training Loss: 0.780..  Test Loss: 0.589..  Test Accuracy: 0.781\n",
      "Epoch: 2/3..  Training Loss: 0.801..  Test Loss: 0.608..  Test Accuracy: 0.770\n",
      "Epoch: 2/3..  Training Loss: 0.823..  Test Loss: 0.589..  Test Accuracy: 0.788\n",
      "Epoch: 2/3..  Training Loss: 0.799..  Test Loss: 0.577..  Test Accuracy: 0.790\n",
      "Epoch: 2/3..  Training Loss: 0.837..  Test Loss: 0.577..  Test Accuracy: 0.784\n",
      "Epoch: 2/3..  Training Loss: 0.811..  Test Loss: 0.596..  Test Accuracy: 0.795\n",
      "Epoch: 2/3..  Training Loss: 0.772..  Test Loss: 0.602..  Test Accuracy: 0.783\n",
      "Epoch: 2/3..  Training Loss: 0.782..  Test Loss: 0.615..  Test Accuracy: 0.753\n",
      "Epoch: 2/3..  Training Loss: 0.742..  Test Loss: 0.593..  Test Accuracy: 0.776\n",
      "Epoch: 2/3..  Training Loss: 0.819..  Test Loss: 0.586..  Test Accuracy: 0.792\n",
      "Epoch: 3/3..  Training Loss: 0.769..  Test Loss: 0.585..  Test Accuracy: 0.796\n",
      "Epoch: 3/3..  Training Loss: 0.812..  Test Loss: 0.587..  Test Accuracy: 0.793\n",
      "Epoch: 3/3..  Training Loss: 0.733..  Test Loss: 0.602..  Test Accuracy: 0.780\n",
      "Epoch: 3/3..  Training Loss: 0.755..  Test Loss: 0.589..  Test Accuracy: 0.786\n",
      "Epoch: 3/3..  Training Loss: 0.770..  Test Loss: 0.583..  Test Accuracy: 0.787\n",
      "Epoch: 3/3..  Training Loss: 0.830..  Test Loss: 0.589..  Test Accuracy: 0.782\n",
      "Epoch: 3/3..  Training Loss: 0.784..  Test Loss: 0.591..  Test Accuracy: 0.783\n",
      "Epoch: 3/3..  Training Loss: 0.813..  Test Loss: 0.580..  Test Accuracy: 0.794\n",
      "Epoch: 3/3..  Training Loss: 0.756..  Test Loss: 0.581..  Test Accuracy: 0.792\n",
      "Epoch: 3/3..  Training Loss: 0.758..  Test Loss: 0.580..  Test Accuracy: 0.785\n",
      "Epoch: 3/3..  Training Loss: 0.815..  Test Loss: 0.582..  Test Accuracy: 0.779\n",
      "Epoch: 3/3..  Training Loss: 0.739..  Test Loss: 0.563..  Test Accuracy: 0.784\n",
      "Epoch: 3/3..  Training Loss: 0.713..  Test Loss: 0.567..  Test Accuracy: 0.795\n",
      "Epoch: 3/3..  Training Loss: 0.757..  Test Loss: 0.566..  Test Accuracy: 0.782\n",
      "Epoch: 3/3..  Training Loss: 0.739..  Test Loss: 0.558..  Test Accuracy: 0.800\n",
      "Epoch: 3/3..  Training Loss: 0.752..  Test Loss: 0.569..  Test Accuracy: 0.787\n",
      "Epoch: 3/3..  Training Loss: 0.755..  Test Loss: 0.596..  Test Accuracy: 0.790\n",
      "Epoch: 3/3..  Training Loss: 0.756..  Test Loss: 0.567..  Test Accuracy: 0.798\n",
      "Epoch: 3/3..  Training Loss: 0.738..  Test Loss: 0.557..  Test Accuracy: 0.807\n",
      "Epoch: 3/3..  Training Loss: 0.804..  Test Loss: 0.569..  Test Accuracy: 0.804\n",
      "Epoch: 3/3..  Training Loss: 0.811..  Test Loss: 0.589..  Test Accuracy: 0.796\n",
      "Epoch: 3/3..  Training Loss: 0.829..  Test Loss: 0.619..  Test Accuracy: 0.776\n",
      "Epoch: 3/3..  Training Loss: 0.763..  Test Loss: 0.580..  Test Accuracy: 0.785\n",
      "Epoch: 3/3..  Training Loss: 0.761..  Test Loss: 0.563..  Test Accuracy: 0.797\n"
     ]
    }
   ],
   "source": [
    "#saving and loading models\n",
    "model  = fc_model.Network(784, 10, [512, 256, 128, 64])\n",
    "criterion = nn.NLLLoss()\n",
    "optimizer = optim.Adam(model.parameters(), lr = 0.003)\n",
    "\n",
    "#training the model\n",
    "fc_model.train(model, trainloader, testloader,criterion,optimizer,epochs = 3)"
   ]
  },
  {
   "cell_type": "code",
   "execution_count": 48,
   "metadata": {},
   "outputs": [
    {
     "name": "stdout",
     "output_type": "stream",
     "text": [
      "\n",
      " Our Model Network(\n",
      "  (hidden_layers): ModuleList(\n",
      "    (0): Linear(in_features=784, out_features=512, bias=True)\n",
      "    (1): Linear(in_features=512, out_features=256, bias=True)\n",
      "    (2): Linear(in_features=256, out_features=128, bias=True)\n",
      "    (3): Linear(in_features=128, out_features=64, bias=True)\n",
      "  )\n",
      "  (output): Linear(in_features=64, out_features=10, bias=True)\n",
      "  (dropout): Dropout(p=0.5)\n",
      ")  \n",
      "\n",
      "model  odict_keys(['hidden_layers.0.weight', 'hidden_layers.0.bias', 'hidden_layers.1.weight', 'hidden_layers.1.bias', 'hidden_layers.2.weight', 'hidden_layers.2.bias', 'hidden_layers.3.weight', 'hidden_layers.3.bias', 'output.weight', 'output.bias'])\n"
     ]
    }
   ],
   "source": [
    "#checking out some parts of the model\n",
    "print(\"\\n Our Model\",model, \" \\n\")\n",
    "print(\"model \", model.state_dict().keys())"
   ]
  },
  {
   "cell_type": "code",
   "execution_count": 49,
   "metadata": {},
   "outputs": [],
   "source": [
    "#saving the new model and its weights\n",
    "torch.save(model.state_dict(), \"checkpoint.pth\")"
   ]
  },
  {
   "cell_type": "code",
   "execution_count": 51,
   "metadata": {},
   "outputs": [
    {
     "name": "stdout",
     "output_type": "stream",
     "text": [
      "odict_keys(['hidden_layers.0.weight', 'hidden_layers.0.bias', 'hidden_layers.1.weight', 'hidden_layers.1.bias', 'hidden_layers.2.weight', 'hidden_layers.2.bias', 'hidden_layers.3.weight', 'hidden_layers.3.bias', 'output.weight', 'output.bias'])\n"
     ]
    }
   ],
   "source": [
    "#loading the new model\n",
    "state_dict = torch.load(\"checkpoint.pth\")\n",
    "print(state_dict.keys())"
   ]
  },
  {
   "cell_type": "code",
   "execution_count": 52,
   "metadata": {},
   "outputs": [
    {
     "data": {
      "text/plain": [
       "ModuleList(\n",
       "  (0): Linear(in_features=784, out_features=512, bias=True)\n",
       "  (1): Linear(in_features=512, out_features=256, bias=True)\n",
       "  (2): Linear(in_features=256, out_features=128, bias=True)\n",
       "  (3): Linear(in_features=128, out_features=64, bias=True)\n",
       ")"
      ]
     },
     "execution_count": 52,
     "metadata": {},
     "output_type": "execute_result"
    }
   ],
   "source": [
    "model.hidden_layers\n"
   ]
  },
  {
   "cell_type": "code",
   "execution_count": 54,
   "metadata": {},
   "outputs": [],
   "source": [
    "#inorder to load a model into a network, you must willingly create a structure for that model\n",
    "#this is therefore a better way to save and load models\n",
    "checkpoint = {\"input_size\":784, \n",
    "              \"output_size\":10,\n",
    "              \"hidden_sizes\":[each.out_features for each in model.hidden_layers],\n",
    "              \"state_dict\": model.state_dict()}\n",
    "\n",
    "torch.save(checkpoint, \"checkpoint.pth\")"
   ]
  },
  {
   "cell_type": "code",
   "execution_count": 59,
   "metadata": {},
   "outputs": [],
   "source": [
    "##Now we can write a function to access a saved model from a file path\n",
    "def load_checkpoint(filepath):\n",
    "    checkpoint = torch.load(filepath)\n",
    "    model = fc_model.Network(checkpoint[\"input_size\"],\n",
    "                            checkpoint[\"output_size\"],\n",
    "                            checkpoint[\"hidden_sizes\"])\n",
    "    model.load_state_dict(checkpoint[\"state_dict\"])\n",
    "    \n",
    "    return model"
   ]
  },
  {
   "cell_type": "code",
   "execution_count": 60,
   "metadata": {},
   "outputs": [
    {
     "name": "stdout",
     "output_type": "stream",
     "text": [
      "Network(\n",
      "  (hidden_layers): ModuleList(\n",
      "    (0): Linear(in_features=784, out_features=512, bias=True)\n",
      "    (1): Linear(in_features=512, out_features=256, bias=True)\n",
      "    (2): Linear(in_features=256, out_features=128, bias=True)\n",
      "    (3): Linear(in_features=128, out_features=64, bias=True)\n",
      "  )\n",
      "  (output): Linear(in_features=64, out_features=10, bias=True)\n",
      "  (dropout): Dropout(p=0.5)\n",
      ")\n"
     ]
    }
   ],
   "source": [
    "model = load_checkpoint(\"checkpoint.pth\")\n",
    "print(model)"
   ]
  },
  {
   "cell_type": "code",
   "execution_count": null,
   "metadata": {},
   "outputs": [],
   "source": []
  }
 ],
 "metadata": {
  "kernelspec": {
   "display_name": "Python 3",
   "language": "python",
   "name": "python3"
  },
  "language_info": {
   "codemirror_mode": {
    "name": "ipython",
    "version": 3
   },
   "file_extension": ".py",
   "mimetype": "text/x-python",
   "name": "python",
   "nbconvert_exporter": "python",
   "pygments_lexer": "ipython3",
   "version": "3.7.3"
  }
 },
 "nbformat": 4,
 "nbformat_minor": 2
}
